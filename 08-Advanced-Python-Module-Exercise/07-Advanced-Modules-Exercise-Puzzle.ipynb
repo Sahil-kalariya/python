{
 "cells": [
  {
   "cell_type": "code",
   "execution_count": 7,
   "id": "e19cb7b9-3b3a-4054-b93f-ed02d2e9ee69",
   "metadata": {},
   "outputs": [],
   "source": [
    "import shutil\n",
    "import os \n",
    "import re"
   ]
  },
  {
   "cell_type": "code",
   "execution_count": 8,
   "id": "81ee8b36-b8e8-43fc-b204-ef0b2b1655e1",
   "metadata": {},
   "outputs": [],
   "source": [
    "zip_path = \"C:\\\\Users\\\\SahilKalariya\\\\Desktop\\\\python_Git\\\\Complete-Python-3-Bootcamp-master\\\\12-Advanced Python Modules\\\\08-Advanced-Python-Module-Exercise\\\\unzip_me_for_instructions.zip\"\n",
    "extract_path = \"C:\\\\Users\\\\SahilKalariya\\\\Desktop\\\\python_Git\\\\Complete-Python-3-Bootcamp-master\\\\12-Advanced Python Modules\\\\08-Advanced-Python-Module-Exercise\\\\\"\n",
    "shutil.unpack_archive(zip_path , extract_path)"
   ]
  },
  {
   "cell_type": "code",
   "execution_count": 9,
   "id": "8c159f7c-6222-452b-98ed-5276d85ef3fe",
   "metadata": {},
   "outputs": [
    {
     "data": {
      "text/plain": [
       "'C:\\\\Users\\\\SahilKalariya\\\\Desktop\\\\python_Git\\\\Complete-Python-3-Bootcamp-master\\\\12-Advanced Python Modules\\\\08-Advanced-Python-Module-Exercise'"
      ]
     },
     "execution_count": 9,
     "metadata": {},
     "output_type": "execute_result"
    }
   ],
   "source": [
    "pwd"
   ]
  },
  {
   "cell_type": "code",
   "execution_count": 11,
   "id": "17cfe3ba-2d43-4383-8367-3b19aceada59",
   "metadata": {},
   "outputs": [
    {
     "data": {
      "text/plain": [
       "'C:\\\\Users\\\\SahilKalariya\\\\Desktop\\\\python_Git\\\\Complete-Python-3-Bootcamp-master\\\\12-Advanced Python Modules\\\\08-Advanced-Python-Module-Exercise'"
      ]
     },
     "execution_count": 11,
     "metadata": {},
     "output_type": "execute_result"
    }
   ],
   "source": [
    "os.getcwd()"
   ]
  },
  {
   "cell_type": "code",
   "execution_count": 14,
   "id": "34b6c440-ec97-4aad-b03c-82833b631c9b",
   "metadata": {},
   "outputs": [
    {
     "name": "stdout",
     "output_type": "stream",
     "text": [
      "C:\\Users\\SahilKalariya\\Desktop\\python_Git\\Complete-Python-3-Bootcamp-master\\12-Advanced Python Modules\\08-Advanced-Python-Module-Exercise\\extracted_content\n"
     ]
    }
   ],
   "source": [
    "root_folder = os.getcwd() + \"\\\\extracted_content\"\n",
    "print(root_folder)"
   ]
  },
  {
   "cell_type": "code",
   "execution_count": 23,
   "id": "09e11f69-1ced-473f-bd3b-1705d39b888d",
   "metadata": {},
   "outputs": [
    {
     "name": "stdout",
     "output_type": "stream",
     "text": [
      "Phone number found: 719-266-2837 in file C:\\Users\\SahilKalariya\\Desktop\\python_Git\\Complete-Python-3-Bootcamp-master\\12-Advanced Python Modules\\08-Advanced-Python-Module-Exercise\\extracted_content\\Four\\EMTGPSXQEJX.txt\n"
     ]
    }
   ],
   "source": [
    "phone_pattern = re.compile(r\"\\b\\d{3}-\\d{3}-\\d{4}\\b\")\n",
    "for folder , sub_folder , files in os.walk(root_folder):\n",
    "   \n",
    "    for file in files: \n",
    "        file_path = folder +'\\\\'+ file\n",
    "      \n",
    "        f = open(file_path , 'r')\n",
    "        content = f.read()\n",
    "        match = phone_pattern.search(content)\n",
    "        if match:\n",
    "            print(f\"Phone number found: {match.group()} in file {file_path}\")\n",
    "        "
   ]
  },
  {
   "cell_type": "code",
   "execution_count": null,
   "id": "10cb2ebf-887c-4bc1-819f-2b2f0854f4b2",
   "metadata": {},
   "outputs": [],
   "source": []
  }
 ],
 "metadata": {
  "kernelspec": {
   "display_name": "Python 3 (ipykernel)",
   "language": "python",
   "name": "python3"
  },
  "language_info": {
   "codemirror_mode": {
    "name": "ipython",
    "version": 3
   },
   "file_extension": ".py",
   "mimetype": "text/x-python",
   "name": "python",
   "nbconvert_exporter": "python",
   "pygments_lexer": "ipython3",
   "version": "3.12.7"
  }
 },
 "nbformat": 4,
 "nbformat_minor": 5
}
